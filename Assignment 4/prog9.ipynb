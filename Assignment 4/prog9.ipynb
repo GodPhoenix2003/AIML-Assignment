{
 "cells": [
  {
   "attachments": {},
   "cell_type": "markdown",
   "metadata": {},
   "source": [
    "Write a NumPy program to convert a list and tuple into arrays."
   ]
  },
  {
   "cell_type": "code",
   "execution_count": 7,
   "metadata": {},
   "outputs": [
    {
     "name": "stdout",
     "output_type": "stream",
     "text": [
      "List to Array:\n",
      " [1 2 3 4 5 6 7 8]\n",
      "Tuple to Array:\n",
      " [[8 4 6]\n",
      " [1 2 3]]\n"
     ]
    }
   ],
   "source": [
    "import numpy as np\n",
    "x = np.array([1,2,3,4,5,6,7,8])\n",
    "print(\"List to Array:\\n\", x)\n",
    "y = np.asarray(((8,4,6),(1,2,3)))\n",
    "print(\"Tuple to Array:\\n\", y)"
   ]
  }
 ],
 "metadata": {
  "kernelspec": {
   "display_name": "Python 3",
   "language": "python",
   "name": "python3"
  },
  "language_info": {
   "codemirror_mode": {
    "name": "ipython",
    "version": 3
   },
   "file_extension": ".py",
   "mimetype": "text/x-python",
   "name": "python",
   "nbconvert_exporter": "python",
   "pygments_lexer": "ipython3",
   "version": "3.10.10"
  },
  "orig_nbformat": 4,
  "vscode": {
   "interpreter": {
    "hash": "2bc648a44c8c75ab459b17bcb462d6875ce500b9d9727e21d722a91ad71a36e0"
   }
  }
 },
 "nbformat": 4,
 "nbformat_minor": 2
}
